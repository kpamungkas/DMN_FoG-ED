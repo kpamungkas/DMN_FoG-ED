{
  "nbformat": 4,
  "nbformat_minor": 0,
  "metadata": {
    "colab": {
      "name": "ED 3DCNN_Final_DMN.ipynb",
      "provenance": [],
      "collapsed_sections": [],
      "machine_shape": "hm",
      "mount_file_id": "1ACxsM2XigmSUoOymwUGkNIHMyXisglq0",
      "authorship_tag": "ABX9TyMMoiidIcovBA/+xfDtLghv",
      "include_colab_link": true
    },
    "kernelspec": {
      "name": "python3",
      "display_name": "Python 3"
    },
    "language_info": {
      "name": "python"
    },
    "accelerator": "GPU"
  },
  "cells": [
    {
      "cell_type": "markdown",
      "metadata": {
        "id": "view-in-github",
        "colab_type": "text"
      },
      "source": [
        "<a href=\"https://colab.research.google.com/github/kpamungkas/DMN_FoG-ED/blob/main/ED_3DCNN_Final_DMN.ipynb\" target=\"_parent\"><img src=\"https://colab.research.google.com/assets/colab-badge.svg\" alt=\"Open In Colab\"/></a>"
      ]
    },
    {
      "cell_type": "markdown",
      "metadata": {
        "id": "esbTruV0IFIM"
      },
      "source": [
        "# Freezing of Gait-trained 3D Convolutional Neural Network on DBS-induced Executive Dysfunction Classification"
      ]
    },
    {
      "cell_type": "markdown",
      "metadata": {
        "id": "5KEAYWjmttDx"
      },
      "source": [
        "# Setting Up"
      ]
    },
    {
      "cell_type": "code",
      "metadata": {
        "id": "2JDWQPVnthok"
      },
      "source": [
        "# Setting Up\n",
        "# Source : https://keras.io/examples/vision/3D_image_classification/\n",
        "import os\n",
        "import numpy as np\n",
        "import tensorflow as tf\n",
        "\n",
        "from tensorflow import keras\n",
        "from tensorflow.keras import layers"
      ],
      "execution_count": null,
      "outputs": []
    },
    {
      "cell_type": "markdown",
      "metadata": {
        "id": "C_-ep8ivty54"
      },
      "source": [
        "# Load Data"
      ]
    },
    {
      "cell_type": "code",
      "metadata": {
        "id": "BtkDIaGbt0_j"
      },
      "source": [
        "# Loading nifti data and preprocessing\n",
        "import nibabel as nib\n",
        "from scipy import ndimage\n",
        "\n",
        "def read_nifti_file(filepath):\n",
        "    \"\"\"Read and load volume\"\"\"\n",
        "    # Read file\n",
        "    scan = nib.load(filepath)\n",
        "    # Get raw data\n",
        "    scan = scan.get_fdata()\n",
        "    return scan\n",
        "\n",
        "def process_scan(path):\n",
        "    \"\"\"Read volume\"\"\"\n",
        "    # Read scan\n",
        "    volume = read_nifti_file(path)\n",
        "    return volume"
      ],
      "execution_count": null,
      "outputs": []
    },
    {
      "cell_type": "code",
      "metadata": {
        "colab": {
          "base_uri": "https://localhost:8080/"
        },
        "id": "QWlih23_t3D9",
        "outputId": "14f70c0e-9f7b-4c6a-e646-94b6a86796e8"
      },
      "source": [
        "\"\"\"Load Dataset\"\"\"\n",
        "# Folder \"Worsening\" consist of RSFCMaps of subjects who showed worsening in ED\n",
        "# due to DBS stimulation.\n",
        "trainingset_worsen_paths = [\n",
        "    os.path.join(\"/content/drive/MyDrive/Master Thesis/ED-DMN/Worsening\", x)\n",
        "    for x in os.listdir(\"/content/drive/MyDrive/Master Thesis/ED-DMN/Worsening\")\n",
        "]\n",
        "\n",
        "# Folder \"Stay\" consist of RSFCMaps of subjects who showed no change in ED\n",
        "# due to DBS stimulation.\n",
        "trainingset_no_paths = [\n",
        "    os.path.join(\"/content/drive/MyDrive/Master Thesis/ED-DMN/Stay\", x)\n",
        "    for x in os.listdir(\"/content/drive/MyDrive/Master Thesis/ED-DMN/Stay\")\n",
        "]\n",
        "\n",
        "# Folder \"Improved\" consist of RSFCMaps of subjects who showed improvement in ED\n",
        "# due to DBS stimulation.\n",
        "trainingset_improve_paths = [\n",
        "    os.path.join(\"/content/drive/MyDrive/Master Thesis/ED-DMN/Improved\", x)\n",
        "    for x in os.listdir(\"/content/drive/MyDrive/Master Thesis/ED-DMN/Improved\")\n",
        "]\n",
        "\n",
        "print(\"RSFCMaps with worsening ED: \" + str(len(trainingset_worsen_paths)))\n",
        "print(\"RSFCMaps with no change ED: \" + str(len(trainingset_no_paths)))\n",
        "print(\"RSFCMaps with improved ED: \" + str(len(trainingset_improve_paths)))"
      ],
      "execution_count": null,
      "outputs": [
        {
          "output_type": "stream",
          "text": [
            "RSFCMaps with worsening ED: 1\n",
            "RSFCMaps with no change ED: 16\n",
            "RSFCMaps with improved ED: 3\n"
          ],
          "name": "stdout"
        }
      ]
    },
    {
      "cell_type": "markdown",
      "metadata": {
        "id": "rLYkkwI4uAky"
      },
      "source": [
        "# Split Dataset"
      ]
    },
    {
      "cell_type": "code",
      "metadata": {
        "id": "QqDrSHLwuC6T",
        "colab": {
          "base_uri": "https://localhost:8080/"
        },
        "outputId": "59bd1d4d-2e8a-499e-adc0-2dc78b79d705"
      },
      "source": [
        "\"\"\"Read datasets and split to training and test data\"\"\"\n",
        "\n",
        "# Read RSFCMaps from the trainingset and store them in a 4D array according to ED change.\n",
        "worsen_maps = np.array([process_scan(path) for path in trainingset_worsen_paths])\n",
        "nochange_maps = np.array([process_scan(path) for path in trainingset_no_paths])\n",
        "improve_maps = np.array([process_scan(path) for path in trainingset_improve_paths])\n",
        "\n",
        "# Assign 0 for worsen_maps, 1 for nochange_maps, and 2 for improve_maps.\n",
        "worsen_labels = np.array([0 for _ in range(len(worsen_maps))])\n",
        "nochange_labels = np.array([1 for _ in range(len(nochange_maps))])\n",
        "improve_labels = np.array([2 for _ in range(len(improve_maps))])\n",
        "\n",
        "# Join ED data\n",
        "x_ED = np.concatenate((worsen_maps, nochange_maps, improve_maps), axis=0)\n",
        "y_ED = np.concatenate((worsen_labels, nochange_labels, improve_labels), axis=0)\n",
        "print(\n",
        "    \"Number of samples in cohort 3 are %d.\"\n",
        "    % (x_ED.shape[0])\n",
        ")\n"
      ],
      "execution_count": null,
      "outputs": [
        {
          "output_type": "stream",
          "text": [
            "Number of samples in cohort 3 are 20.\n"
          ],
          "name": "stdout"
        }
      ]
    },
    {
      "cell_type": "code",
      "metadata": {
        "colab": {
          "base_uri": "https://localhost:8080/"
        },
        "id": "RkAhQbi6AvxH",
        "outputId": "4771732b-82e6-40a2-df4e-f659aba8dd13"
      },
      "source": [
        "\"\"\" Build a 3D CNN model\"\"\"\n",
        "# tuned\n",
        "# https://keras.io/examples/vision/3D_image_classification/\n",
        "\n",
        "# Initialising the CNN\n",
        "cnn = tf.keras.models.Sequential()\n",
        "\n",
        "# 1st convolutional layer +  relu activation + pool + normalization\n",
        "cnn.add(layers.Conv3D(filters=8, kernel_size=(3,3,3),  activation='relu', kernel_initializer= 'glorot_uniform', input_shape=[91, 109, 91, 1]))\n",
        "cnn.add(layers.MaxPool3D((2,2,2)))\n",
        "cnn.add(layers.BatchNormalization())\n",
        "\n",
        "# 2nd convolutional layer + relu activation + pool + normalization\n",
        "cnn.add(layers.Conv3D(filters=32, kernel_size=(3,3,3), activation='relu', kernel_initializer= 'glorot_uniform'))\n",
        "cnn.add(layers.MaxPool3D((2,2,2)))\n",
        "cnn.add(layers.BatchNormalization())\n",
        "\n",
        "# 3rd convolutional layer + relu activation + pool + normalization\n",
        "cnn.add(layers.Conv3D(filters= 64, kernel_size=(3,3,3),  activation='relu', kernel_initializer='glorot_uniform'))\n",
        "cnn.add(layers.MaxPool3D((2,2,2)))\n",
        "cnn.add(layers.BatchNormalization())\n",
        "\n",
        "# 4th convolutional layer + relu activation + pool + normalization\n",
        "cnn.add(layers.Conv3D(filters = 64, kernel_size=(3,3,3), activation = 'relu', kernel_initializer='glorot_uniform'))\n",
        "cnn.add(layers.MaxPool3D((2,2,2)))\n",
        "cnn.add(layers.BatchNormalization())\n",
        "\n",
        "# 5th global average + pool + dropout\n",
        "cnn.add(layers.GlobalAveragePooling3D())\n",
        "cnn.add(layers.Dense(units = 32, activation = 'relu'))\n",
        "cnn.add(layers.Dropout(0.5))\n",
        "\n",
        "# Output Layer\n",
        "#cnn2.add(layers.Flatten())\n",
        "cnn.add(layers.Dense(units= 3, activation = 'softmax'))\n",
        "\n",
        "cnn.summary()"
      ],
      "execution_count": null,
      "outputs": [
        {
          "output_type": "stream",
          "text": [
            "Model: \"sequential\"\n",
            "_________________________________________________________________\n",
            "Layer (type)                 Output Shape              Param #   \n",
            "=================================================================\n",
            "conv3d (Conv3D)              (None, 89, 107, 89, 8)    224       \n",
            "_________________________________________________________________\n",
            "max_pooling3d (MaxPooling3D) (None, 44, 53, 44, 8)     0         \n",
            "_________________________________________________________________\n",
            "batch_normalization (BatchNo (None, 44, 53, 44, 8)     32        \n",
            "_________________________________________________________________\n",
            "conv3d_1 (Conv3D)            (None, 42, 51, 42, 32)    6944      \n",
            "_________________________________________________________________\n",
            "max_pooling3d_1 (MaxPooling3 (None, 21, 25, 21, 32)    0         \n",
            "_________________________________________________________________\n",
            "batch_normalization_1 (Batch (None, 21, 25, 21, 32)    128       \n",
            "_________________________________________________________________\n",
            "conv3d_2 (Conv3D)            (None, 19, 23, 19, 64)    55360     \n",
            "_________________________________________________________________\n",
            "max_pooling3d_2 (MaxPooling3 (None, 9, 11, 9, 64)      0         \n",
            "_________________________________________________________________\n",
            "batch_normalization_2 (Batch (None, 9, 11, 9, 64)      256       \n",
            "_________________________________________________________________\n",
            "conv3d_3 (Conv3D)            (None, 7, 9, 7, 64)       110656    \n",
            "_________________________________________________________________\n",
            "max_pooling3d_3 (MaxPooling3 (None, 3, 4, 3, 64)       0         \n",
            "_________________________________________________________________\n",
            "batch_normalization_3 (Batch (None, 3, 4, 3, 64)       256       \n",
            "_________________________________________________________________\n",
            "global_average_pooling3d (Gl (None, 64)                0         \n",
            "_________________________________________________________________\n",
            "dense (Dense)                (None, 32)                2080      \n",
            "_________________________________________________________________\n",
            "dropout (Dropout)            (None, 32)                0         \n",
            "_________________________________________________________________\n",
            "dense_1 (Dense)              (None, 3)                 99        \n",
            "=================================================================\n",
            "Total params: 176,035\n",
            "Trainable params: 175,699\n",
            "Non-trainable params: 336\n",
            "_________________________________________________________________\n"
          ],
          "name": "stdout"
        }
      ]
    },
    {
      "cell_type": "code",
      "metadata": {
        "id": "gvdgb_FbN45_"
      },
      "source": [
        "\"\"\" Load weights from FoG-trained 3D CNN Model \"\"\"\n",
        "\n",
        "cnn.load_weights(\"final_dmn_model-2.h5\")"
      ],
      "execution_count": null,
      "outputs": []
    },
    {
      "cell_type": "code",
      "metadata": {
        "colab": {
          "base_uri": "https://localhost:8080/"
        },
        "id": "ubhSYHW3ywh5",
        "outputId": "e8594487-8ec5-4840-d7cc-0c1158a42ac2"
      },
      "source": [
        "# Compile model\n",
        "lr_schedule = keras.optimizers.schedules.ExponentialDecay(\n",
        "    0.0001, decay_steps=100000, decay_rate=0.96, staircase=True\n",
        ")\n",
        "\n",
        "cnn.compile(\n",
        "    loss=\"sparse_categorical_crossentropy\",\n",
        "    optimizer=keras.optimizers.Adam(learning_rate=lr_schedule),\n",
        "    metrics=[\"acc\"],\n",
        ")\n",
        "print(\"Created model and loaded weights from file\")"
      ],
      "execution_count": null,
      "outputs": [
        {
          "output_type": "stream",
          "text": [
            "Created model and loaded weights from file\n"
          ],
          "name": "stdout"
        }
      ]
    },
    {
      "cell_type": "code",
      "metadata": {
        "id": "M_xlxGTfW7Gk"
      },
      "source": [
        "\"\"\" Transform Dataset \"\"\"\n",
        "\n",
        "def coh3_preprocessing(volume, label):\n",
        "    \"\"\"Add one dimension to each RSFCMaps in the test set.\"\"\"\n",
        "    volume = tf.expand_dims(volume, axis=3)\n",
        "    return volume, label\n",
        "\n",
        "# Define data loaders\n",
        "coh3_loader = tf.data.Dataset.from_tensor_slices((x_ED, y_ED))\n",
        "\n",
        "coh3 = (\n",
        "    coh3_loader\n",
        "    .map(coh3_preprocessing)\n",
        "    .batch(1)\n",
        ")\n"
      ],
      "execution_count": null,
      "outputs": []
    },
    {
      "cell_type": "code",
      "metadata": {
        "colab": {
          "base_uri": "https://localhost:8080/"
        },
        "id": "tkAHdW-kzBfr",
        "outputId": "72801833-6791-4d80-bdd1-489c05c806ef"
      },
      "source": [
        "coh3_accuracy = cnn.evaluate(coh3, verbose = 0)\n",
        "print(\"Cohort 3\", \"%s: %.2f%%\" % (cnn.metrics_names[1], coh3_accuracy[1]*100))"
      ],
      "execution_count": null,
      "outputs": [
        {
          "output_type": "stream",
          "text": [
            "Cohort 3 acc: 15.00%\n"
          ],
          "name": "stdout"
        }
      ]
    },
    {
      "cell_type": "code",
      "metadata": {
        "colab": {
          "base_uri": "https://localhost:8080/"
        },
        "id": "NThH8NcEb0K4",
        "outputId": "26b50b83-3c5c-4df0-b9b9-34220b6f1fd5"
      },
      "source": [
        "\"\"\" Create Confusion Matrix \"\"\"\n",
        "\n",
        "from sklearn import metrics\n",
        "\n",
        "y_EDpred = cnn.predict_classes(coh3)\n",
        "\n",
        "print(metrics.confusion_matrix(y_ED, y_EDpred))"
      ],
      "execution_count": null,
      "outputs": [
        {
          "output_type": "stream",
          "text": [
            "/usr/local/lib/python3.7/dist-packages/tensorflow/python/keras/engine/sequential.py:455: UserWarning: `model.predict_classes()` is deprecated and will be removed after 2021-01-01. Please use instead:* `np.argmax(model.predict(x), axis=-1)`,   if your model does multi-class classification   (e.g. if it uses a `softmax` last-layer activation).* `(model.predict(x) > 0.5).astype(\"int32\")`,   if your model does binary classification   (e.g. if it uses a `sigmoid` last-layer activation).\n",
            "  warnings.warn('`model.predict_classes()` is deprecated and '\n"
          ],
          "name": "stderr"
        },
        {
          "output_type": "stream",
          "text": [
            "[[ 0  0  1]\n",
            " [ 0  0 16]\n",
            " [ 0  0  3]]\n"
          ],
          "name": "stdout"
        }
      ]
    },
    {
      "cell_type": "markdown",
      "metadata": {
        "id": "fqzNrIAu-FxL"
      },
      "source": [
        "Balanced Accuracy = (00/11 + 0/6 + 3/3) /3 = 33 %"
      ]
    }
  ]
}