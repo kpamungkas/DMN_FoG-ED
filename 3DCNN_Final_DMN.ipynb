{
  "nbformat": 4,
  "nbformat_minor": 0,
  "metadata": {
    "colab": {
      "name": "3DCNN_Final_DMN.ipynb",
      "provenance": [],
      "collapsed_sections": [],
      "machine_shape": "hm",
      "mount_file_id": "1SxIFdoWguJGN0pFx36Tp6f6bhHPg199O",
      "authorship_tag": "ABX9TyMekVD8FnO0CsHVp5Vo4V85",
      "include_colab_link": true
    },
    "kernelspec": {
      "name": "python3",
      "display_name": "Python 3"
    },
    "language_info": {
      "name": "python"
    },
    "accelerator": "GPU"
  },
  "cells": [
    {
      "cell_type": "markdown",
      "metadata": {
        "id": "view-in-github",
        "colab_type": "text"
      },
      "source": [
        "<a href=\"https://colab.research.google.com/github/kpamungkas/DMN_FoG-ED/blob/main/3DCNN_Final_DMN.ipynb\" target=\"_parent\"><img src=\"https://colab.research.google.com/assets/colab-badge.svg\" alt=\"Open In Colab\"/></a>"
      ]
    },
    {
      "cell_type": "markdown",
      "metadata": {
        "id": "vnZYARFBAUno"
      },
      "source": [
        "# 3D Convolutional Neural Network of DMN-masked RSFC maps on DBS-induced FoG Classification"
      ]
    },
    {
      "cell_type": "markdown",
      "metadata": {
        "id": "5KEAYWjmttDx"
      },
      "source": [
        "# Setting Up"
      ]
    },
    {
      "cell_type": "code",
      "metadata": {
        "id": "2JDWQPVnthok"
      },
      "source": [
        "# Setting Up\n",
        "# Source : https://keras.io/examples/vision/3D_image_classification/\n",
        "import os\n",
        "import numpy as np\n",
        "import tensorflow as tf\n",
        "\n",
        "from tensorflow import keras\n",
        "from tensorflow.keras import layers"
      ],
      "execution_count": null,
      "outputs": []
    },
    {
      "cell_type": "markdown",
      "metadata": {
        "id": "C_-ep8ivty54"
      },
      "source": [
        "# Load Data"
      ]
    },
    {
      "cell_type": "code",
      "metadata": {
        "id": "BtkDIaGbt0_j"
      },
      "source": [
        "# Loading nifti data and preprocessing\n",
        "import nibabel as nib\n",
        "from scipy import ndimage\n",
        "\n",
        "def read_nifti_file(filepath):\n",
        "    \"\"\"Read and load volume\"\"\"\n",
        "    # Read file\n",
        "    scan = nib.load(filepath)\n",
        "    # Get raw data\n",
        "    scan = scan.get_fdata()\n",
        "    return scan\n",
        "\n",
        "def process_scan(path):\n",
        "    \"\"\"Read volume\"\"\"\n",
        "    # Read scan\n",
        "    volume = read_nifti_file(path)\n",
        "    return volume"
      ],
      "execution_count": null,
      "outputs": []
    },
    {
      "cell_type": "code",
      "metadata": {
        "colab": {
          "base_uri": "https://localhost:8080/"
        },
        "id": "QWlih23_t3D9",
        "outputId": "ccc304cb-efbd-4c4f-f02f-f9fdd63fb984"
      },
      "source": [
        "\"\"\"Load Dataset\"\"\"\n",
        "# Folder \"Worsening\" consist of RSFCMaps of subjects who showed worsening in FoG\n",
        "# due to DBS stimulation.\n",
        "trainingset_worsen_paths = [\n",
        "    os.path.join(\"/content/drive/MyDrive/Master Thesis/DMN/Worsening\", x)\n",
        "    for x in os.listdir(\"/content/drive/MyDrive/Master Thesis/DMN/Worsening\")\n",
        "]\n",
        "\n",
        "# Folder \"Stay\" consist of RSFCMaps of subjects who showed no change in FoG\n",
        "# due to DBS stimulation.\n",
        "trainingset_no_paths = [\n",
        "    os.path.join(\"/content/drive/MyDrive/Master Thesis/DMN/Stay\", x)\n",
        "    for x in os.listdir(\"/content/drive/MyDrive/Master Thesis/DMN/Stay\")\n",
        "]\n",
        "\n",
        "# Folder \"Improved\" consist of RSFCMaps of subjects who showed improvement in FoG\n",
        "# due to DBS stimulation.\n",
        "trainingset_improve_paths = [\n",
        "    os.path.join(\"/content/drive/MyDrive/Master Thesis/DMN/Improved\", x)\n",
        "    for x in os.listdir(\"/content/drive/MyDrive/Master Thesis/DMN/Improved\")\n",
        "]\n",
        "\n",
        "print(\"RSFCMaps with worsening FoG: \" + str(len(trainingset_worsen_paths)))\n",
        "print(\"RSFCMaps with no change FoG: \" + str(len(trainingset_no_paths)))\n",
        "print(\"RSFCMaps with improved FoG: \" + str(len(trainingset_improve_paths)))"
      ],
      "execution_count": null,
      "outputs": [
        {
          "output_type": "stream",
          "text": [
            "RSFCMaps with worsening FoG: 11\n",
            "RSFCMaps with no change FoG: 6\n",
            "RSFCMaps with improved FoG: 34\n"
          ],
          "name": "stdout"
        }
      ]
    },
    {
      "cell_type": "markdown",
      "metadata": {
        "id": "rLYkkwI4uAky"
      },
      "source": [
        "# Split Dataset"
      ]
    },
    {
      "cell_type": "code",
      "metadata": {
        "id": "QqDrSHLwuC6T",
        "colab": {
          "base_uri": "https://localhost:8080/"
        },
        "outputId": "5de18b31-1c6f-4a42-c032-ee8258767068"
      },
      "source": [
        "\"\"\"Read datasets and split to training and test data\"\"\"\n",
        "\n",
        "# Read RSFCMaps from the trainingset and store them in a 4D array according to FoG change.\n",
        "worsen_maps = np.array([process_scan(path) for path in trainingset_worsen_paths])\n",
        "nochange_maps = np.array([process_scan(path) for path in trainingset_no_paths])\n",
        "improve_maps = np.array([process_scan(path) for path in trainingset_improve_paths])\n",
        "\n",
        "# Assign 0 for worsen_maps, 1 for nochange_maps, and 2 for improve_maps.\n",
        "worsen_labels = np.array([0 for _ in range(len(worsen_maps))])\n",
        "nochange_labels = np.array([1 for _ in range(len(nochange_maps))])\n",
        "improve_labels = np.array([2 for _ in range(len(improve_maps))])\n",
        "\n",
        "# Split data: 41 to training and 10 to test.\n",
        "x_train = np.concatenate((worsen_maps[:6], worsen_maps[8:10], nochange_maps[:5], improve_maps[:16], improve_maps[19:31]), axis=0)\n",
        "y_train = np.concatenate((worsen_labels[:8], nochange_labels[:5], improve_labels[:28]), axis=0)\n",
        "x_val = np.concatenate((worsen_maps[6:8], worsen_maps[10:], nochange_maps[5:], improve_maps[16:19], improve_maps[31:]), axis=0)\n",
        "y_val = np.concatenate((worsen_labels[8:], nochange_labels[5:], improve_labels[28:]), axis=0)\n",
        "print(\n",
        "    \"Number of samples in train and validation are %d and %d.\"\n",
        "    % (x_train.shape[0], x_val.shape[0])\n",
        ")\n"
      ],
      "execution_count": null,
      "outputs": [
        {
          "output_type": "stream",
          "text": [
            "Number of samples in train and validation are 41 and 10.\n"
          ],
          "name": "stdout"
        }
      ]
    },
    {
      "cell_type": "markdown",
      "metadata": {
        "id": "4e55fzXNuHxh"
      },
      "source": [
        "# Data Augmentation"
      ]
    },
    {
      "cell_type": "code",
      "metadata": {
        "id": "o8eiY3D_uFjh"
      },
      "source": [
        "\"\"\" Define data augmentation: Flip on X-, Y-, and Z-axis \"\"\"\n",
        "\n",
        "import numpy as np\n",
        "\n",
        "def flip_x(maps): #data has to be 4d array (n sample, row, col, depth)\n",
        "  # Initialize empty array\n",
        "  x_data = np.zeros((len(maps), 91, 109, 91), float)\n",
        "\n",
        "  for i in range(len(maps)):\n",
        "    current_volume = maps[i]\n",
        "    \n",
        "    # Flip the current volume\n",
        "    x_flip = current_volume[::-1, :, :]\n",
        "\n",
        "    # Save the flipped volumes onto the empty arrays\n",
        "    x_data[i] = x_flip\n",
        "  \n",
        "  return x_data\n",
        "\n",
        "def flip_y(maps): #data has to be 4d array (n sample, row, col, depth)\n",
        "  # Initialize empty array\n",
        "  y_data = np.zeros((len(maps), 91, 109, 91), float)\n",
        "\n",
        "  for i in range(len(maps)):\n",
        "    current_volume = maps[i]\n",
        "    \n",
        "    # Flip the current volume\n",
        "    y_flip = current_volume[:, ::-1, :]\n",
        "\n",
        "    # Save the flipped volumes onto the empty arrays\n",
        "    y_data[i] = y_flip\n",
        "  \n",
        "  return y_data\n",
        "\n",
        "def flip_z(maps): #data has to be 4d array (n sample, row, col, depth)\n",
        "  # Initialize empty array\n",
        "  z_data = np.zeros((len(maps), 91, 109, 91), float)\n",
        "\n",
        "  for i in range(len(maps)):\n",
        "    current_volume = maps[i]\n",
        "    \n",
        "    # Flip the current volume\n",
        "    z_flip = current_volume[:, :, ::-1]\n",
        "\n",
        "    # Save the flipped volumes onto the empty arrays\n",
        "    z_data[i] = z_flip\n",
        "  \n",
        "  return z_data"
      ],
      "execution_count": null,
      "outputs": []
    },
    {
      "cell_type": "code",
      "metadata": {
        "id": "QokLLaH-uN8c"
      },
      "source": [
        "\"\"\" Training set augmentation \"\"\"\n",
        "\n",
        "x_train_x = flip_x(x_train)\n",
        "x_train_y = flip_y(x_train)\n",
        "x_train_z = flip_z(x_train)"
      ],
      "execution_count": null,
      "outputs": []
    },
    {
      "cell_type": "code",
      "metadata": {
        "colab": {
          "base_uri": "https://localhost:8080/"
        },
        "id": "YXIqe-oGuQM3",
        "outputId": "87d51951-f2eb-44cf-a5ab-5cde083ecf3c"
      },
      "source": [
        "\"\"\" Add augmented data to training data \"\"\"\n",
        "\n",
        "x_train = np.concatenate((x_train, x_train_x, x_train_y, x_train_z), axis=0)\n",
        "y_train = np.concatenate((y_train, y_train, y_train, y_train), axis=0)\n",
        "\n",
        "print(\n",
        "    \"Number of samples after augmentation in train and validation are %d and %d.\"\n",
        "    % (x_train.shape[0], x_val.shape[0])\n",
        ")"
      ],
      "execution_count": null,
      "outputs": [
        {
          "output_type": "stream",
          "text": [
            "Number of samples after augmentation in train and validation are 164 and 10.\n"
          ],
          "name": "stdout"
        }
      ]
    },
    {
      "cell_type": "markdown",
      "metadata": {
        "id": "WV8GWy4iuR44"
      },
      "source": [
        "# Data Normalization"
      ]
    },
    {
      "cell_type": "markdown",
      "metadata": {
        "id": "yD45dI4TuYbE"
      },
      "source": [
        "# Prepare Data"
      ]
    },
    {
      "cell_type": "code",
      "metadata": {
        "id": "PplYZj4VuabR"
      },
      "source": [
        "\"\"\" Prepare training set \"\"\"\n",
        "\n",
        "import random\n",
        "from scipy import ndimage\n",
        "\n",
        "def train_preprocessing(volume, label):\n",
        "    \"\"\"Add one dimension to each RSFCMaps in the training set.\"\"\"\n",
        "    volume = tf.expand_dims(volume, axis=3)\n",
        "    return volume, label\n",
        "\n",
        "def validation_preprocessing(volume, label):\n",
        "    \"\"\"Add one dimension to each RSFCMaps in the test set.\"\"\"\n",
        "    volume = tf.expand_dims(volume, axis=3)\n",
        "    return volume, label\n",
        "\n",
        "# Define data loaders.\n",
        "train_loader = tf.data.Dataset.from_tensor_slices((x_train, y_train))\n",
        "validation_loader = tf.data.Dataset.from_tensor_slices((x_val, y_val))\n",
        "\n",
        "train_dataset = (\n",
        "    train_loader.shuffle(len(x_train))\n",
        "    .map(train_preprocessing)\n",
        "    .batch(2)\n",
        "    .prefetch(2)\n",
        ")\n",
        "\n",
        "validation_dataset = (\n",
        "    validation_loader.shuffle(len(x_val))\n",
        "    .map(validation_preprocessing)\n",
        "    .batch(1)\n",
        "    .prefetch(2)\n",
        ")"
      ],
      "execution_count": null,
      "outputs": []
    },
    {
      "cell_type": "code",
      "metadata": {
        "colab": {
          "base_uri": "https://localhost:8080/",
          "height": 268
        },
        "id": "cGVjd94Aud_z",
        "outputId": "4840d206-2a2e-4e49-9aa9-0df1fda9441d"
      },
      "source": [
        "\"\"\" Sample Visualisation \"\"\"\n",
        "\n",
        "import matplotlib.pyplot as plt\n",
        "\n",
        "plt.imshow(x_train[1,:,:,52])\n",
        "plt.show()"
      ],
      "execution_count": null,
      "outputs": [
        {
          "output_type": "display_data",
          "data": {
            "image/png": "[encoded data removed]",
            "text/plain": [
              "<Figure size 432x288 with 1 Axes>"
            ]
          },
          "metadata": {
            "tags": [],
            "needs_background": "light"
          }
        }
      ]
    },
    {
      "cell_type": "markdown",
      "metadata": {
        "id": "AJLeh87yxBCx"
      },
      "source": [
        "# 3D CNN"
      ]
    },
    {
      "cell_type": "code",
      "metadata": {
        "colab": {
          "base_uri": "https://localhost:8080/"
        },
        "id": "_999_aY9xDLC",
        "outputId": "e065f1e3-2a1b-4f74-a489-0522aa0410f9"
      },
      "source": [
        "\"\"\" Build a 3D CNN model\"\"\"\n",
        "# tuned\n",
        "# https://keras.io/examples/vision/3D_image_classification/\n",
        "\n",
        "# Initialising the CNN\n",
        "cnn = tf.keras.models.Sequential()\n",
        "\n",
        "# 1st convolutional layer +  relu activation + pool + normalization\n",
        "cnn.add(layers.Conv3D(filters=8, kernel_size=(3,3,3),  activation='relu', kernel_initializer= 'glorot_uniform', input_shape=[91, 109, 91, 1]))\n",
        "cnn.add(layers.MaxPool3D((2,2,2)))\n",
        "cnn.add(layers.BatchNormalization())\n",
        "\n",
        "# 2nd convolutional layer + relu activation + pool + normalization\n",
        "cnn.add(layers.Conv3D(filters=32, kernel_size=(3,3,3), activation='relu', kernel_initializer= 'glorot_uniform'))\n",
        "cnn.add(layers.MaxPool3D((2,2,2)))\n",
        "cnn.add(layers.BatchNormalization())\n",
        "\n",
        "# 3rd convolutional layer + relu activation + pool + normalization\n",
        "cnn.add(layers.Conv3D(filters= 64, kernel_size=(3,3,3),  activation='relu', kernel_initializer='glorot_uniform'))\n",
        "cnn.add(layers.MaxPool3D((2,2,2)))\n",
        "cnn.add(layers.BatchNormalization())\n",
        "\n",
        "# 4th convolutional layer + relu activation + pool + normalization\n",
        "cnn.add(layers.Conv3D(filters = 64, kernel_size=(3,3,3), activation = 'relu', kernel_initializer='glorot_uniform'))\n",
        "cnn.add(layers.MaxPool3D((2,2,2)))\n",
        "cnn.add(layers.BatchNormalization())\n",
        "\n",
        "# 5th global average + pool + dropout\n",
        "cnn.add(layers.GlobalAveragePooling3D())\n",
        "cnn.add(layers.Dense(units = 32, activation = 'relu'))\n",
        "cnn.add(layers.Dropout(0.5))\n",
        "\n",
        "# Output Layer\n",
        "#cnn2.add(layers.Flatten())\n",
        "cnn.add(layers.Dense(units= 3, activation = 'softmax'))\n",
        "\n",
        "cnn.summary()"
      ],
      "execution_count": null,
      "outputs": [
        {
          "output_type": "stream",
          "text": [
            "Model: \"sequential\"\n",
            "_________________________________________________________________\n",
            "Layer (type)                 Output Shape              Param #   \n",
            "=================================================================\n",
            "conv3d (Conv3D)              (None, 89, 107, 89, 8)    224       \n",
            "_________________________________________________________________\n",
            "max_pooling3d (MaxPooling3D) (None, 44, 53, 44, 8)     0         \n",
            "_________________________________________________________________\n",
            "batch_normalization (BatchNo (None, 44, 53, 44, 8)     32        \n",
            "_________________________________________________________________\n",
            "conv3d_1 (Conv3D)            (None, 42, 51, 42, 32)    6944      \n",
            "_________________________________________________________________\n",
            "max_pooling3d_1 (MaxPooling3 (None, 21, 25, 21, 32)    0         \n",
            "_________________________________________________________________\n",
            "batch_normalization_1 (Batch (None, 21, 25, 21, 32)    128       \n",
            "_________________________________________________________________\n",
            "conv3d_2 (Conv3D)            (None, 19, 23, 19, 64)    55360     \n",
            "_________________________________________________________________\n",
            "max_pooling3d_2 (MaxPooling3 (None, 9, 11, 9, 64)      0         \n",
            "_________________________________________________________________\n",
            "batch_normalization_2 (Batch (None, 9, 11, 9, 64)      256       \n",
            "_________________________________________________________________\n",
            "conv3d_3 (Conv3D)            (None, 7, 9, 7, 64)       110656    \n",
            "_________________________________________________________________\n",
            "max_pooling3d_3 (MaxPooling3 (None, 3, 4, 3, 64)       0         \n",
            "_________________________________________________________________\n",
            "batch_normalization_3 (Batch (None, 3, 4, 3, 64)       256       \n",
            "_________________________________________________________________\n",
            "global_average_pooling3d (Gl (None, 64)                0         \n",
            "_________________________________________________________________\n",
            "dense (Dense)                (None, 32)                2080      \n",
            "_________________________________________________________________\n",
            "dropout (Dropout)            (None, 32)                0         \n",
            "_________________________________________________________________\n",
            "dense_1 (Dense)              (None, 3)                 99        \n",
            "=================================================================\n",
            "Total params: 176,035\n",
            "Trainable params: 175,699\n",
            "Non-trainable params: 336\n",
            "_________________________________________________________________\n"
          ],
          "name": "stdout"
        }
      ]
    },
    {
      "cell_type": "code",
      "metadata": {
        "id": "9EgaTJcUxjPh"
      },
      "source": [
        "\"\"\"Train Model\"\"\"\n",
        "lr_schedule = keras.optimizers.schedules.ExponentialDecay(\n",
        "    0.0001, decay_steps=100000, decay_rate=0.96, staircase=True\n",
        ")\n",
        "\n",
        "# Compile 3D CNN model.\n",
        "cnn.compile(\n",
        "    loss=\"sparse_categorical_crossentropy\",\n",
        "    optimizer=keras.optimizers.Adam(learning_rate=lr_schedule),\n",
        "    metrics=[\"acc\"],\n",
        ")\n",
        "\n",
        "\n",
        "# Define callbacks.\n",
        "checkpoint_cb = keras.callbacks.ModelCheckpoint(\n",
        "    \"final_dmn_model.h5\", save_best_only=True\n",
        ")\n",
        "early_stopping_cb = keras.callbacks.EarlyStopping(monitor=\"val_loss\", patience=100)\n"
      ],
      "execution_count": null,
      "outputs": []
    },
    {
      "cell_type": "code",
      "metadata": {
        "colab": {
          "base_uri": "https://localhost:8080/"
        },
        "id": "Ml15W3vPxx4Q",
        "outputId": "1422d5a8-bb66-4746-8a66-27b4a24e37cc"
      },
      "source": [
        "# Train the 3D CNN2 model, doing validation at the end of each epoch\n",
        "cnn.fit(\n",
        "    train_dataset,\n",
        "    validation_data=validation_dataset,\n",
        "    epochs = 500,\n",
        "    shuffle=True,\n",
        "    verbose=1,\n",
        "    callbacks=[checkpoint_cb, early_stopping_cb]\n",
        ")"
      ],
      "execution_count": null,
      "outputs": [
        {
          "output_type": "stream",
          "text": [
            "Epoch 1/500\n",
            "82/82 [==============================] - 20s 36ms/step - loss: 1.1089 - acc: 0.3293 - val_loss: 1.2733 - val_acc: 0.3000\n",
            "Epoch 2/500\n",
            "82/82 [==============================] - 3s 32ms/step - loss: 1.0573 - acc: 0.4268 - val_loss: 1.1280 - val_acc: 0.3000\n",
            "Epoch 3/500\n",
            "82/82 [==============================] - 3s 32ms/step - loss: 1.0047 - acc: 0.5610 - val_loss: 1.0459 - val_acc: 0.3000\n",
            "Epoch 4/500\n",
            "82/82 [==============================] - 3s 32ms/step - loss: 0.9821 - acc: 0.5915 - val_loss: 0.9839 - val_acc: 0.3000\n",
            "Epoch 5/500\n",
            "82/82 [==============================] - 3s 32ms/step - loss: 0.9861 - acc: 0.6098 - val_loss: 1.0242 - val_acc: 0.3000\n",
            "Epoch 6/500\n",
            "82/82 [==============================] - 3s 32ms/step - loss: 0.9252 - acc: 0.6463 - val_loss: 1.0906 - val_acc: 0.3000\n",
            "Epoch 7/500\n",
            "82/82 [==============================] - 3s 32ms/step - loss: 0.9496 - acc: 0.6524 - val_loss: 1.0323 - val_acc: 0.3000\n",
            "Epoch 8/500\n",
            "82/82 [==============================] - 3s 32ms/step - loss: 1.0085 - acc: 0.5732 - val_loss: 0.9681 - val_acc: 0.3000\n",
            "Epoch 9/500\n",
            "82/82 [==============================] - 3s 32ms/step - loss: 0.9245 - acc: 0.6402 - val_loss: 0.9131 - val_acc: 0.6000\n",
            "Epoch 10/500\n",
            "82/82 [==============================] - 3s 32ms/step - loss: 0.8942 - acc: 0.6402 - val_loss: 0.8723 - val_acc: 0.5000\n",
            "Epoch 11/500\n",
            "82/82 [==============================] - 3s 33ms/step - loss: 0.9518 - acc: 0.6341 - val_loss: 0.8451 - val_acc: 0.6000\n",
            "Epoch 12/500\n",
            "82/82 [==============================] - 3s 32ms/step - loss: 0.9635 - acc: 0.6280 - val_loss: 0.8838 - val_acc: 0.6000\n",
            "Epoch 13/500\n",
            "82/82 [==============================] - 3s 32ms/step - loss: 0.8889 - acc: 0.6890 - val_loss: 0.9118 - val_acc: 0.6000\n",
            "Epoch 14/500\n",
            "82/82 [==============================] - 3s 32ms/step - loss: 0.9272 - acc: 0.6768 - val_loss: 0.8914 - val_acc: 0.6000\n",
            "Epoch 15/500\n",
            "82/82 [==============================] - 3s 32ms/step - loss: 0.8731 - acc: 0.6463 - val_loss: 0.8823 - val_acc: 0.6000\n",
            "Epoch 16/500\n",
            "82/82 [==============================] - 3s 31ms/step - loss: 0.8981 - acc: 0.6585 - val_loss: 0.8789 - val_acc: 0.6000\n",
            "Epoch 17/500\n",
            "82/82 [==============================] - 3s 32ms/step - loss: 0.8726 - acc: 0.6341 - val_loss: 0.9020 - val_acc: 0.6000\n",
            "Epoch 18/500\n",
            "82/82 [==============================] - 3s 32ms/step - loss: 0.9284 - acc: 0.6707 - val_loss: 0.9141 - val_acc: 0.6000\n",
            "Epoch 19/500\n",
            "82/82 [==============================] - 3s 32ms/step - loss: 0.9131 - acc: 0.6768 - val_loss: 0.9670 - val_acc: 0.6000\n",
            "Epoch 20/500\n",
            "82/82 [==============================] - 3s 32ms/step - loss: 0.8561 - acc: 0.6585 - val_loss: 0.9128 - val_acc: 0.6000\n",
            "Epoch 21/500\n",
            "82/82 [==============================] - 3s 32ms/step - loss: 0.8520 - acc: 0.6768 - val_loss: 0.8621 - val_acc: 0.5000\n",
            "Epoch 22/500\n",
            "82/82 [==============================] - 3s 32ms/step - loss: 0.8758 - acc: 0.6524 - val_loss: 0.8603 - val_acc: 0.5000\n",
            "Epoch 23/500\n",
            "82/82 [==============================] - 3s 32ms/step - loss: 0.8696 - acc: 0.6585 - val_loss: 0.9339 - val_acc: 0.6000\n",
            "Epoch 24/500\n",
            "82/82 [==============================] - 3s 32ms/step - loss: 0.8725 - acc: 0.6768 - val_loss: 0.9642 - val_acc: 0.6000\n",
            "Epoch 25/500\n",
            "82/82 [==============================] - 3s 32ms/step - loss: 0.8677 - acc: 0.6829 - val_loss: 0.9121 - val_acc: 0.6000\n",
            "Epoch 26/500\n",
            "82/82 [==============================] - 3s 32ms/step - loss: 0.8820 - acc: 0.6829 - val_loss: 0.8987 - val_acc: 0.6000\n",
            "Epoch 27/500\n",
            "82/82 [==============================] - 3s 32ms/step - loss: 0.8680 - acc: 0.6585 - val_loss: 0.9041 - val_acc: 0.6000\n",
            "Epoch 28/500\n",
            "82/82 [==============================] - 3s 32ms/step - loss: 0.9118 - acc: 0.6768 - val_loss: 0.8606 - val_acc: 0.5000\n",
            "Epoch 29/500\n",
            "82/82 [==============================] - 3s 32ms/step - loss: 0.8700 - acc: 0.6707 - val_loss: 0.8950 - val_acc: 0.6000\n",
            "Epoch 30/500\n",
            "82/82 [==============================] - 3s 32ms/step - loss: 0.9034 - acc: 0.6524 - val_loss: 0.8646 - val_acc: 0.5000\n",
            "Epoch 31/500\n",
            "82/82 [==============================] - 3s 32ms/step - loss: 0.8564 - acc: 0.6829 - val_loss: 0.8460 - val_acc: 0.6000\n",
            "Epoch 32/500\n",
            "82/82 [==============================] - 3s 32ms/step - loss: 0.8326 - acc: 0.6768 - val_loss: 0.8822 - val_acc: 0.5000\n",
            "Epoch 33/500\n",
            "82/82 [==============================] - 3s 32ms/step - loss: 0.8616 - acc: 0.6646 - val_loss: 0.8752 - val_acc: 0.6000\n",
            "Epoch 34/500\n",
            "82/82 [==============================] - 3s 32ms/step - loss: 0.8580 - acc: 0.6646 - val_loss: 0.9135 - val_acc: 0.6000\n",
            "Epoch 35/500\n",
            "82/82 [==============================] - 3s 32ms/step - loss: 0.8632 - acc: 0.6707 - val_loss: 0.8322 - val_acc: 0.5000\n",
            "Epoch 36/500\n",
            "82/82 [==============================] - 3s 32ms/step - loss: 0.8342 - acc: 0.6646 - val_loss: 0.8198 - val_acc: 0.6000\n",
            "Epoch 37/500\n",
            "82/82 [==============================] - 3s 32ms/step - loss: 0.8434 - acc: 0.6646 - val_loss: 0.8602 - val_acc: 0.5000\n",
            "Epoch 38/500\n",
            "82/82 [==============================] - 3s 32ms/step - loss: 0.9043 - acc: 0.6646 - val_loss: 0.8274 - val_acc: 0.6000\n",
            "Epoch 39/500\n",
            "82/82 [==============================] - 3s 32ms/step - loss: 0.8546 - acc: 0.6585 - val_loss: 0.8208 - val_acc: 0.6000\n",
            "Epoch 40/500\n",
            "82/82 [==============================] - 3s 32ms/step - loss: 0.8772 - acc: 0.6829 - val_loss: 0.8251 - val_acc: 0.6000\n",
            "Epoch 41/500\n",
            "82/82 [==============================] - 3s 32ms/step - loss: 0.8492 - acc: 0.7012 - val_loss: 0.8412 - val_acc: 0.6000\n",
            "Epoch 42/500\n",
            "82/82 [==============================] - 3s 32ms/step - loss: 0.8280 - acc: 0.6890 - val_loss: 0.8201 - val_acc: 0.6000\n",
            "Epoch 43/500\n",
            "82/82 [==============================] - 3s 32ms/step - loss: 0.8246 - acc: 0.7073 - val_loss: 0.8188 - val_acc: 0.6000\n",
            "Epoch 44/500\n",
            "82/82 [==============================] - 3s 32ms/step - loss: 0.8379 - acc: 0.6768 - val_loss: 0.7795 - val_acc: 0.6000\n",
            "Epoch 45/500\n",
            "82/82 [==============================] - 3s 32ms/step - loss: 0.8188 - acc: 0.6768 - val_loss: 0.8193 - val_acc: 0.6000\n",
            "Epoch 46/500\n",
            "82/82 [==============================] - 3s 32ms/step - loss: 0.8435 - acc: 0.6829 - val_loss: 0.7879 - val_acc: 0.6000\n",
            "Epoch 47/500\n",
            "82/82 [==============================] - 3s 32ms/step - loss: 0.8380 - acc: 0.6768 - val_loss: 0.8247 - val_acc: 0.6000\n",
            "Epoch 48/500\n",
            "82/82 [==============================] - 3s 32ms/step - loss: 0.8317 - acc: 0.6768 - val_loss: 0.8059 - val_acc: 0.6000\n",
            "Epoch 49/500\n",
            "82/82 [==============================] - 3s 32ms/step - loss: 0.8070 - acc: 0.6951 - val_loss: 0.8080 - val_acc: 0.6000\n",
            "Epoch 50/500\n",
            "82/82 [==============================] - 3s 32ms/step - loss: 0.8276 - acc: 0.6890 - val_loss: 0.7865 - val_acc: 0.6000\n",
            "Epoch 51/500\n",
            "82/82 [==============================] - 3s 32ms/step - loss: 0.8380 - acc: 0.6768 - val_loss: 0.7959 - val_acc: 0.6000\n",
            "Epoch 52/500\n",
            "82/82 [==============================] - 3s 32ms/step - loss: 0.8057 - acc: 0.6829 - val_loss: 0.8426 - val_acc: 0.6000\n",
            "Epoch 53/500\n",
            "82/82 [==============================] - 3s 32ms/step - loss: 0.8230 - acc: 0.6707 - val_loss: 0.8077 - val_acc: 0.6000\n",
            "Epoch 54/500\n",
            "82/82 [==============================] - 3s 32ms/step - loss: 0.7761 - acc: 0.6829 - val_loss: 0.8272 - val_acc: 0.6000\n",
            "Epoch 55/500\n",
            "82/82 [==============================] - 3s 32ms/step - loss: 0.8245 - acc: 0.6707 - val_loss: 0.8142 - val_acc: 0.6000\n",
            "Epoch 56/500\n",
            "82/82 [==============================] - 3s 32ms/step - loss: 0.7715 - acc: 0.6768 - val_loss: 0.8410 - val_acc: 0.6000\n",
            "Epoch 57/500\n",
            "82/82 [==============================] - 3s 33ms/step - loss: 0.8386 - acc: 0.6768 - val_loss: 0.8726 - val_acc: 0.6000\n",
            "Epoch 58/500\n",
            "82/82 [==============================] - 3s 32ms/step - loss: 0.8108 - acc: 0.6646 - val_loss: 0.8787 - val_acc: 0.6000\n",
            "Epoch 59/500\n",
            "82/82 [==============================] - 3s 32ms/step - loss: 0.8584 - acc: 0.6707 - val_loss: 0.8413 - val_acc: 0.6000\n",
            "Epoch 60/500\n",
            "82/82 [==============================] - 3s 32ms/step - loss: 0.8332 - acc: 0.6768 - val_loss: 0.8139 - val_acc: 0.6000\n",
            "Epoch 61/500\n",
            "82/82 [==============================] - 3s 32ms/step - loss: 0.8821 - acc: 0.6707 - val_loss: 0.8217 - val_acc: 0.6000\n",
            "Epoch 62/500\n",
            "82/82 [==============================] - 3s 32ms/step - loss: 0.8046 - acc: 0.7012 - val_loss: 0.7892 - val_acc: 0.6000\n",
            "Epoch 63/500\n",
            "82/82 [==============================] - 3s 32ms/step - loss: 0.8222 - acc: 0.6951 - val_loss: 0.8293 - val_acc: 0.6000\n",
            "Epoch 64/500\n",
            "82/82 [==============================] - 3s 32ms/step - loss: 0.8322 - acc: 0.6951 - val_loss: 0.8021 - val_acc: 0.7000\n",
            "Epoch 65/500\n",
            "82/82 [==============================] - 3s 32ms/step - loss: 0.8210 - acc: 0.6890 - val_loss: 0.7970 - val_acc: 0.6000\n",
            "Epoch 66/500\n",
            "82/82 [==============================] - 3s 32ms/step - loss: 0.7694 - acc: 0.7134 - val_loss: 0.8417 - val_acc: 0.6000\n",
            "Epoch 67/500\n",
            "82/82 [==============================] - 3s 32ms/step - loss: 0.8296 - acc: 0.6646 - val_loss: 0.8270 - val_acc: 0.7000\n",
            "Epoch 68/500\n",
            "82/82 [==============================] - 3s 32ms/step - loss: 0.7919 - acc: 0.7073 - val_loss: 0.8511 - val_acc: 0.7000\n",
            "Epoch 69/500\n",
            "82/82 [==============================] - 3s 32ms/step - loss: 0.8017 - acc: 0.6768 - val_loss: 0.8222 - val_acc: 0.6000\n",
            "Epoch 70/500\n",
            "82/82 [==============================] - 3s 32ms/step - loss: 0.8449 - acc: 0.7012 - val_loss: 0.8559 - val_acc: 0.6000\n",
            "Epoch 71/500\n",
            "82/82 [==============================] - 3s 32ms/step - loss: 0.7735 - acc: 0.6951 - val_loss: 0.8584 - val_acc: 0.6000\n",
            "Epoch 72/500\n",
            "82/82 [==============================] - 3s 32ms/step - loss: 0.7659 - acc: 0.6951 - val_loss: 0.8225 - val_acc: 0.6000\n",
            "Epoch 73/500\n",
            "82/82 [==============================] - 3s 31ms/step - loss: 0.7920 - acc: 0.7073 - val_loss: 0.9844 - val_acc: 0.6000\n",
            "Epoch 74/500\n",
            "82/82 [==============================] - 3s 32ms/step - loss: 0.7668 - acc: 0.7012 - val_loss: 0.9310 - val_acc: 0.6000\n",
            "Epoch 75/500\n",
            "82/82 [==============================] - 3s 32ms/step - loss: 0.7913 - acc: 0.6890 - val_loss: 0.8602 - val_acc: 0.6000\n",
            "Epoch 76/500\n",
            "82/82 [==============================] - 3s 32ms/step - loss: 0.7845 - acc: 0.6890 - val_loss: 0.8857 - val_acc: 0.7000\n",
            "Epoch 77/500\n",
            "82/82 [==============================] - 3s 32ms/step - loss: 0.7967 - acc: 0.7012 - val_loss: 0.8669 - val_acc: 0.6000\n",
            "Epoch 78/500\n",
            "82/82 [==============================] - 3s 32ms/step - loss: 0.7715 - acc: 0.7195 - val_loss: 0.8519 - val_acc: 0.6000\n",
            "Epoch 79/500\n",
            "82/82 [==============================] - 3s 32ms/step - loss: 0.7543 - acc: 0.7317 - val_loss: 0.8202 - val_acc: 0.6000\n",
            "Epoch 80/500\n",
            "82/82 [==============================] - 3s 32ms/step - loss: 0.7645 - acc: 0.6890 - val_loss: 0.8612 - val_acc: 0.6000\n",
            "Epoch 81/500\n",
            "82/82 [==============================] - 3s 31ms/step - loss: 0.7570 - acc: 0.7256 - val_loss: 0.8640 - val_acc: 0.6000\n",
            "Epoch 82/500\n",
            "82/82 [==============================] - 3s 32ms/step - loss: 0.7680 - acc: 0.7073 - val_loss: 0.8171 - val_acc: 0.6000\n",
            "Epoch 83/500\n",
            "82/82 [==============================] - 3s 32ms/step - loss: 0.7708 - acc: 0.7256 - val_loss: 0.8421 - val_acc: 0.6000\n",
            "Epoch 84/500\n",
            "82/82 [==============================] - 3s 32ms/step - loss: 0.7509 - acc: 0.7256 - val_loss: 0.8669 - val_acc: 0.7000\n",
            "Epoch 85/500\n",
            "82/82 [==============================] - 3s 32ms/step - loss: 0.7669 - acc: 0.7134 - val_loss: 0.9223 - val_acc: 0.7000\n",
            "Epoch 86/500\n",
            "82/82 [==============================] - 3s 32ms/step - loss: 0.7925 - acc: 0.7256 - val_loss: 0.8157 - val_acc: 0.6000\n",
            "Epoch 87/500\n",
            "82/82 [==============================] - 3s 32ms/step - loss: 0.7352 - acc: 0.7134 - val_loss: 0.8434 - val_acc: 0.6000\n",
            "Epoch 88/500\n",
            "82/82 [==============================] - 3s 32ms/step - loss: 0.7802 - acc: 0.7195 - val_loss: 0.9008 - val_acc: 0.7000\n",
            "Epoch 89/500\n",
            "82/82 [==============================] - 3s 32ms/step - loss: 0.7582 - acc: 0.7256 - val_loss: 0.8321 - val_acc: 0.6000\n",
            "Epoch 90/500\n",
            "82/82 [==============================] - 3s 31ms/step - loss: 0.7810 - acc: 0.6951 - val_loss: 0.8971 - val_acc: 0.7000\n",
            "Epoch 91/500\n",
            "82/82 [==============================] - 3s 31ms/step - loss: 0.7411 - acc: 0.7500 - val_loss: 0.8610 - val_acc: 0.6000\n",
            "Epoch 92/500\n",
            "82/82 [==============================] - 3s 32ms/step - loss: 0.7493 - acc: 0.7500 - val_loss: 0.8255 - val_acc: 0.7000\n",
            "Epoch 93/500\n",
            "82/82 [==============================] - 3s 32ms/step - loss: 0.7192 - acc: 0.7134 - val_loss: 0.8439 - val_acc: 0.7000\n",
            "Epoch 94/500\n",
            "82/82 [==============================] - 3s 32ms/step - loss: 0.7380 - acc: 0.7256 - val_loss: 0.8202 - val_acc: 0.7000\n",
            "Epoch 95/500\n",
            "82/82 [==============================] - 3s 32ms/step - loss: 0.7145 - acc: 0.7378 - val_loss: 0.9238 - val_acc: 0.7000\n",
            "Epoch 96/500\n",
            "82/82 [==============================] - 3s 32ms/step - loss: 0.7156 - acc: 0.7561 - val_loss: 0.9827 - val_acc: 0.7000\n",
            "Epoch 97/500\n",
            "82/82 [==============================] - 3s 32ms/step - loss: 0.7316 - acc: 0.7378 - val_loss: 0.8594 - val_acc: 0.6000\n",
            "Epoch 98/500\n",
            "82/82 [==============================] - 3s 32ms/step - loss: 0.7330 - acc: 0.7073 - val_loss: 0.8999 - val_acc: 0.5000\n",
            "Epoch 99/500\n",
            "82/82 [==============================] - 3s 32ms/step - loss: 0.6828 - acc: 0.7500 - val_loss: 1.2365 - val_acc: 0.1000\n",
            "Epoch 100/500\n",
            "82/82 [==============================] - 3s 32ms/step - loss: 0.6698 - acc: 0.7500 - val_loss: 0.7965 - val_acc: 0.7000\n",
            "Epoch 101/500\n",
            "82/82 [==============================] - 3s 31ms/step - loss: 0.6495 - acc: 0.7561 - val_loss: 1.1917 - val_acc: 0.7000\n",
            "Epoch 102/500\n",
            "82/82 [==============================] - 3s 32ms/step - loss: 0.6283 - acc: 0.7439 - val_loss: 1.0665 - val_acc: 0.6000\n",
            "Epoch 103/500\n",
            "82/82 [==============================] - 3s 31ms/step - loss: 0.7013 - acc: 0.7256 - val_loss: 1.2096 - val_acc: 0.2000\n",
            "Epoch 104/500\n",
            "82/82 [==============================] - 3s 32ms/step - loss: 0.7826 - acc: 0.7134 - val_loss: 0.9624 - val_acc: 0.6000\n",
            "Epoch 105/500\n",
            "82/82 [==============================] - 3s 32ms/step - loss: 0.6546 - acc: 0.7500 - val_loss: 1.5656 - val_acc: 0.6000\n",
            "Epoch 106/500\n",
            "82/82 [==============================] - 3s 32ms/step - loss: 0.6505 - acc: 0.7622 - val_loss: 0.9643 - val_acc: 0.7000\n",
            "Epoch 107/500\n",
            "82/82 [==============================] - 3s 32ms/step - loss: 0.7389 - acc: 0.7744 - val_loss: 0.9772 - val_acc: 0.6000\n",
            "Epoch 108/500\n",
            "82/82 [==============================] - 3s 32ms/step - loss: 0.6681 - acc: 0.7439 - val_loss: 1.0621 - val_acc: 0.5000\n",
            "Epoch 109/500\n",
            "82/82 [==============================] - 3s 32ms/step - loss: 0.6648 - acc: 0.7622 - val_loss: 0.9996 - val_acc: 0.5000\n",
            "Epoch 110/500\n",
            "82/82 [==============================] - 3s 31ms/step - loss: 0.7189 - acc: 0.7378 - val_loss: 0.9920 - val_acc: 0.3000\n",
            "Epoch 111/500\n",
            "82/82 [==============================] - 3s 32ms/step - loss: 0.7041 - acc: 0.7622 - val_loss: 0.9660 - val_acc: 0.6000\n",
            "Epoch 112/500\n",
            "82/82 [==============================] - 3s 32ms/step - loss: 0.6339 - acc: 0.7744 - val_loss: 0.9311 - val_acc: 0.7000\n",
            "Epoch 113/500\n",
            "82/82 [==============================] - 3s 32ms/step - loss: 0.6326 - acc: 0.7683 - val_loss: 0.7391 - val_acc: 0.8000\n",
            "Epoch 114/500\n",
            "82/82 [==============================] - 3s 32ms/step - loss: 0.6545 - acc: 0.7622 - val_loss: 1.0167 - val_acc: 0.8000\n",
            "Epoch 115/500\n",
            "82/82 [==============================] - 3s 32ms/step - loss: 0.6504 - acc: 0.7561 - val_loss: 1.1986 - val_acc: 0.5000\n",
            "Epoch 116/500\n",
            "82/82 [==============================] - 3s 32ms/step - loss: 0.6717 - acc: 0.7500 - val_loss: 0.7830 - val_acc: 0.7000\n",
            "Epoch 117/500\n",
            "82/82 [==============================] - 3s 32ms/step - loss: 0.6718 - acc: 0.7622 - val_loss: 1.3159 - val_acc: 0.6000\n",
            "Epoch 118/500\n",
            "82/82 [==============================] - 3s 32ms/step - loss: 0.6904 - acc: 0.7622 - val_loss: 1.0264 - val_acc: 0.8000\n",
            "Epoch 119/500\n",
            "82/82 [==============================] - 3s 32ms/step - loss: 0.6514 - acc: 0.7805 - val_loss: 0.8674 - val_acc: 0.6000\n",
            "Epoch 120/500\n",
            "82/82 [==============================] - 3s 32ms/step - loss: 0.6798 - acc: 0.7866 - val_loss: 0.7395 - val_acc: 0.7000\n",
            "Epoch 121/500\n",
            "82/82 [==============================] - 3s 32ms/step - loss: 0.5988 - acc: 0.8049 - val_loss: 1.0997 - val_acc: 0.7000\n",
            "Epoch 122/500\n",
            "82/82 [==============================] - 3s 31ms/step - loss: 0.6173 - acc: 0.7744 - val_loss: 1.0901 - val_acc: 0.6000\n",
            "Epoch 123/500\n",
            "82/82 [==============================] - 3s 31ms/step - loss: 0.6490 - acc: 0.7866 - val_loss: 1.0867 - val_acc: 0.6000\n",
            "Epoch 124/500\n",
            "82/82 [==============================] - 3s 32ms/step - loss: 0.6385 - acc: 0.7805 - val_loss: 1.1995 - val_acc: 0.6000\n",
            "Epoch 125/500\n",
            "82/82 [==============================] - 3s 32ms/step - loss: 0.6462 - acc: 0.7744 - val_loss: 0.7629 - val_acc: 0.8000\n",
            "Epoch 126/500\n",
            "82/82 [==============================] - 3s 32ms/step - loss: 0.6356 - acc: 0.7500 - val_loss: 0.7408 - val_acc: 0.7000\n",
            "Epoch 127/500\n",
            "82/82 [==============================] - 3s 32ms/step - loss: 0.6238 - acc: 0.7927 - val_loss: 1.4363 - val_acc: 0.5000\n",
            "Epoch 128/500\n",
            "82/82 [==============================] - 3s 32ms/step - loss: 0.6329 - acc: 0.7866 - val_loss: 1.4543 - val_acc: 0.6000\n",
            "Epoch 129/500\n",
            "82/82 [==============================] - 3s 32ms/step - loss: 0.6165 - acc: 0.7805 - val_loss: 0.7130 - val_acc: 0.7000\n",
            "Epoch 130/500\n",
            "82/82 [==============================] - 3s 32ms/step - loss: 0.5773 - acc: 0.7805 - val_loss: 1.3188 - val_acc: 0.2000\n",
            "Epoch 131/500\n",
            "82/82 [==============================] - 3s 32ms/step - loss: 0.6172 - acc: 0.7744 - val_loss: 1.1877 - val_acc: 0.4000\n",
            "Epoch 132/500\n",
            "82/82 [==============================] - 3s 32ms/step - loss: 0.5976 - acc: 0.7500 - val_loss: 0.9295 - val_acc: 0.7000\n",
            "Epoch 133/500\n",
            "82/82 [==============================] - 3s 32ms/step - loss: 0.5974 - acc: 0.7866 - val_loss: 1.1579 - val_acc: 0.6000\n",
            "Epoch 134/500\n",
            "82/82 [==============================] - 3s 32ms/step - loss: 0.6374 - acc: 0.7500 - val_loss: 1.0136 - val_acc: 0.6000\n",
            "Epoch 135/500\n",
            "82/82 [==============================] - 3s 32ms/step - loss: 0.6345 - acc: 0.7439 - val_loss: 1.1521 - val_acc: 0.5000\n",
            "Epoch 136/500\n",
            "82/82 [==============================] - 3s 32ms/step - loss: 0.6405 - acc: 0.7500 - val_loss: 0.9095 - val_acc: 0.5000\n",
            "Epoch 137/500\n",
            "82/82 [==============================] - 3s 32ms/step - loss: 0.5413 - acc: 0.8049 - val_loss: 1.2551 - val_acc: 0.6000\n",
            "Epoch 138/500\n",
            "82/82 [==============================] - 3s 32ms/step - loss: 0.6101 - acc: 0.7988 - val_loss: 1.2931 - val_acc: 0.5000\n",
            "Epoch 139/500\n",
            "82/82 [==============================] - 3s 32ms/step - loss: 0.6150 - acc: 0.7500 - val_loss: 0.7632 - val_acc: 0.6000\n",
            "Epoch 140/500\n",
            "82/82 [==============================] - 3s 32ms/step - loss: 0.5923 - acc: 0.7927 - val_loss: 1.2779 - val_acc: 0.6000\n",
            "Epoch 141/500\n",
            "82/82 [==============================] - 3s 32ms/step - loss: 0.5658 - acc: 0.7927 - val_loss: 1.0053 - val_acc: 0.7000\n",
            "Epoch 142/500\n",
            "82/82 [==============================] - 3s 32ms/step - loss: 0.5547 - acc: 0.7805 - val_loss: 1.3595 - val_acc: 0.3000\n",
            "Epoch 143/500\n",
            "82/82 [==============================] - 3s 32ms/step - loss: 0.5766 - acc: 0.7988 - val_loss: 0.8608 - val_acc: 0.7000\n",
            "Epoch 144/500\n",
            "82/82 [==============================] - 3s 32ms/step - loss: 0.4925 - acc: 0.8171 - val_loss: 1.2128 - val_acc: 0.7000\n",
            "Epoch 145/500\n",
            "82/82 [==============================] - 3s 31ms/step - loss: 0.6433 - acc: 0.7805 - val_loss: 0.7555 - val_acc: 0.7000\n",
            "Epoch 146/500\n",
            "82/82 [==============================] - 3s 32ms/step - loss: 0.5643 - acc: 0.7988 - val_loss: 1.2060 - val_acc: 0.7000\n",
            "Epoch 147/500\n",
            "82/82 [==============================] - 3s 32ms/step - loss: 0.5791 - acc: 0.8110 - val_loss: 1.8957 - val_acc: 0.3000\n",
            "Epoch 148/500\n",
            "82/82 [==============================] - 3s 32ms/step - loss: 0.5611 - acc: 0.7927 - val_loss: 1.5454 - val_acc: 0.7000\n",
            "Epoch 149/500\n",
            "82/82 [==============================] - 3s 32ms/step - loss: 0.5728 - acc: 0.8171 - val_loss: 1.3730 - val_acc: 0.6000\n",
            "Epoch 150/500\n",
            "82/82 [==============================] - 3s 32ms/step - loss: 0.5742 - acc: 0.7927 - val_loss: 0.8089 - val_acc: 0.6000\n",
            "Epoch 151/500\n",
            "82/82 [==============================] - 3s 32ms/step - loss: 0.5089 - acc: 0.8110 - val_loss: 1.1052 - val_acc: 0.8000\n",
            "Epoch 152/500\n",
            "82/82 [==============================] - 3s 32ms/step - loss: 0.5774 - acc: 0.8049 - val_loss: 1.0730 - val_acc: 0.7000\n",
            "Epoch 153/500\n",
            "82/82 [==============================] - 3s 32ms/step - loss: 0.5424 - acc: 0.8232 - val_loss: 1.0292 - val_acc: 0.5000\n",
            "Epoch 154/500\n",
            "82/82 [==============================] - 3s 32ms/step - loss: 0.6398 - acc: 0.7805 - val_loss: 1.8007 - val_acc: 0.3000\n",
            "Epoch 155/500\n",
            "82/82 [==============================] - 3s 32ms/step - loss: 0.5401 - acc: 0.7988 - val_loss: 1.2758 - val_acc: 0.5000\n",
            "Epoch 156/500\n",
            "82/82 [==============================] - 3s 32ms/step - loss: 0.5257 - acc: 0.8171 - val_loss: 1.0355 - val_acc: 0.7000\n",
            "Epoch 157/500\n",
            "82/82 [==============================] - 3s 32ms/step - loss: 0.5679 - acc: 0.7805 - val_loss: 1.2922 - val_acc: 0.7000\n",
            "Epoch 158/500\n",
            "82/82 [==============================] - 3s 32ms/step - loss: 0.5242 - acc: 0.7683 - val_loss: 0.8349 - val_acc: 0.7000\n",
            "Epoch 159/500\n",
            "82/82 [==============================] - 3s 32ms/step - loss: 0.5114 - acc: 0.7988 - val_loss: 1.6748 - val_acc: 0.3000\n",
            "Epoch 160/500\n",
            "82/82 [==============================] - 3s 32ms/step - loss: 0.5282 - acc: 0.8293 - val_loss: 2.2275 - val_acc: 0.6000\n",
            "Epoch 161/500\n",
            "82/82 [==============================] - 3s 32ms/step - loss: 0.5266 - acc: 0.8232 - val_loss: 1.6230 - val_acc: 0.2000\n",
            "Epoch 162/500\n",
            "82/82 [==============================] - 3s 32ms/step - loss: 0.5635 - acc: 0.7927 - val_loss: 1.2005 - val_acc: 0.5000\n",
            "Epoch 163/500\n",
            "82/82 [==============================] - 3s 32ms/step - loss: 0.4916 - acc: 0.8293 - val_loss: 1.2458 - val_acc: 0.5000\n",
            "Epoch 164/500\n",
            "82/82 [==============================] - 3s 32ms/step - loss: 0.5239 - acc: 0.8415 - val_loss: 1.5119 - val_acc: 0.5000\n",
            "Epoch 165/500\n",
            "82/82 [==============================] - 3s 32ms/step - loss: 0.4987 - acc: 0.8110 - val_loss: 1.3990 - val_acc: 0.5000\n",
            "Epoch 166/500\n",
            "82/82 [==============================] - 3s 32ms/step - loss: 0.4949 - acc: 0.8049 - val_loss: 2.5344 - val_acc: 0.1000\n",
            "Epoch 167/500\n",
            "82/82 [==============================] - 3s 32ms/step - loss: 0.4838 - acc: 0.8293 - val_loss: 1.1162 - val_acc: 0.7000\n",
            "Epoch 168/500\n",
            "82/82 [==============================] - 3s 32ms/step - loss: 0.4720 - acc: 0.8293 - val_loss: 1.0880 - val_acc: 0.6000\n",
            "Epoch 169/500\n",
            "82/82 [==============================] - 3s 32ms/step - loss: 0.5010 - acc: 0.8232 - val_loss: 2.1092 - val_acc: 0.5000\n",
            "Epoch 170/500\n",
            "82/82 [==============================] - 3s 32ms/step - loss: 0.4734 - acc: 0.8293 - val_loss: 1.0565 - val_acc: 0.7000\n",
            "Epoch 171/500\n",
            "82/82 [==============================] - 3s 32ms/step - loss: 0.5015 - acc: 0.8354 - val_loss: 3.2011 - val_acc: 0.1000\n",
            "Epoch 172/500\n",
            "82/82 [==============================] - 3s 32ms/step - loss: 0.5230 - acc: 0.7866 - val_loss: 3.9348 - val_acc: 0.6000\n",
            "Epoch 173/500\n",
            "82/82 [==============================] - 3s 32ms/step - loss: 0.4895 - acc: 0.8110 - val_loss: 1.8622 - val_acc: 0.7000\n",
            "Epoch 174/500\n",
            "82/82 [==============================] - 3s 31ms/step - loss: 0.4425 - acc: 0.8232 - val_loss: 1.7079 - val_acc: 0.6000\n",
            "Epoch 175/500\n",
            "82/82 [==============================] - 3s 32ms/step - loss: 0.4944 - acc: 0.8293 - val_loss: 1.6721 - val_acc: 0.5000\n",
            "Epoch 176/500\n",
            "82/82 [==============================] - 3s 32ms/step - loss: 0.4991 - acc: 0.8293 - val_loss: 1.0439 - val_acc: 0.7000\n",
            "Epoch 177/500\n",
            "82/82 [==============================] - 3s 32ms/step - loss: 0.4718 - acc: 0.8415 - val_loss: 2.0721 - val_acc: 0.6000\n",
            "Epoch 178/500\n",
            "82/82 [==============================] - 3s 32ms/step - loss: 0.5091 - acc: 0.8232 - val_loss: 0.6262 - val_acc: 0.7000\n",
            "Epoch 179/500\n",
            "82/82 [==============================] - 3s 32ms/step - loss: 0.5729 - acc: 0.8110 - val_loss: 1.5772 - val_acc: 0.7000\n",
            "Epoch 180/500\n",
            "82/82 [==============================] - 3s 32ms/step - loss: 0.5003 - acc: 0.8232 - val_loss: 1.6177 - val_acc: 0.5000\n",
            "Epoch 181/500\n",
            "82/82 [==============================] - 3s 32ms/step - loss: 0.4226 - acc: 0.8415 - val_loss: 1.5975 - val_acc: 0.3000\n",
            "Epoch 182/500\n",
            "82/82 [==============================] - 3s 32ms/step - loss: 0.4633 - acc: 0.8171 - val_loss: 3.1848 - val_acc: 0.6000\n",
            "Epoch 183/500\n",
            "82/82 [==============================] - 3s 32ms/step - loss: 0.4830 - acc: 0.8110 - val_loss: 1.0460 - val_acc: 0.6000\n",
            "Epoch 184/500\n",
            "82/82 [==============================] - 3s 32ms/step - loss: 0.5042 - acc: 0.8415 - val_loss: 3.4769 - val_acc: 0.1000\n",
            "Epoch 185/500\n",
            "82/82 [==============================] - 3s 31ms/step - loss: 0.4870 - acc: 0.8110 - val_loss: 4.9538 - val_acc: 0.1000\n",
            "Epoch 186/500\n",
            "82/82 [==============================] - 3s 32ms/step - loss: 0.5029 - acc: 0.8232 - val_loss: 1.2260 - val_acc: 0.7000\n",
            "Epoch 187/500\n",
            "82/82 [==============================] - 3s 32ms/step - loss: 0.4541 - acc: 0.8659 - val_loss: 1.2872 - val_acc: 0.5000\n",
            "Epoch 188/500\n",
            "82/82 [==============================] - 3s 32ms/step - loss: 0.4941 - acc: 0.8232 - val_loss: 0.6123 - val_acc: 0.7000\n",
            "Epoch 189/500\n",
            "82/82 [==============================] - 3s 31ms/step - loss: 0.4921 - acc: 0.8232 - val_loss: 1.0801 - val_acc: 0.7000\n",
            "Epoch 190/500\n",
            "82/82 [==============================] - 3s 32ms/step - loss: 0.5251 - acc: 0.8049 - val_loss: 1.5618 - val_acc: 0.7000\n",
            "Epoch 191/500\n",
            "82/82 [==============================] - 3s 32ms/step - loss: 0.5233 - acc: 0.8049 - val_loss: 0.7087 - val_acc: 0.7000\n",
            "Epoch 192/500\n",
            "82/82 [==============================] - 3s 32ms/step - loss: 0.4225 - acc: 0.8780 - val_loss: 2.1295 - val_acc: 0.6000\n",
            "Epoch 193/500\n",
            "82/82 [==============================] - 3s 32ms/step - loss: 0.4025 - acc: 0.8659 - val_loss: 1.4717 - val_acc: 0.5000\n",
            "Epoch 194/500\n",
            "82/82 [==============================] - 3s 32ms/step - loss: 0.5447 - acc: 0.7988 - val_loss: 2.2677 - val_acc: 0.1000\n",
            "Epoch 195/500\n",
            "82/82 [==============================] - 3s 32ms/step - loss: 0.5126 - acc: 0.8293 - val_loss: 1.9891 - val_acc: 0.6000\n",
            "Epoch 196/500\n",
            "82/82 [==============================] - 3s 32ms/step - loss: 0.3772 - acc: 0.8537 - val_loss: 0.8154 - val_acc: 0.6000\n",
            "Epoch 197/500\n",
            "82/82 [==============================] - 3s 32ms/step - loss: 0.4774 - acc: 0.8232 - val_loss: 2.4178 - val_acc: 0.2000\n",
            "Epoch 198/500\n",
            "82/82 [==============================] - 3s 31ms/step - loss: 0.5003 - acc: 0.8537 - val_loss: 2.8784 - val_acc: 0.6000\n",
            "Epoch 199/500\n",
            "82/82 [==============================] - 3s 31ms/step - loss: 0.6018 - acc: 0.7866 - val_loss: 1.2655 - val_acc: 0.5000\n",
            "Epoch 200/500\n",
            "82/82 [==============================] - 3s 32ms/step - loss: 0.4596 - acc: 0.8293 - val_loss: 1.0776 - val_acc: 0.6000\n",
            "Epoch 201/500\n",
            "82/82 [==============================] - 3s 31ms/step - loss: 0.5433 - acc: 0.8354 - val_loss: 1.2807 - val_acc: 0.7000\n",
            "Epoch 202/500\n",
            "82/82 [==============================] - 3s 31ms/step - loss: 0.6006 - acc: 0.7988 - val_loss: 1.1210 - val_acc: 0.7000\n",
            "Epoch 203/500\n",
            "82/82 [==============================] - 3s 32ms/step - loss: 0.4138 - acc: 0.8720 - val_loss: 0.8201 - val_acc: 0.5000\n",
            "Epoch 204/500\n",
            "82/82 [==============================] - 3s 32ms/step - loss: 0.4965 - acc: 0.8415 - val_loss: 2.7604 - val_acc: 0.1000\n",
            "Epoch 205/500\n",
            "82/82 [==============================] - 3s 32ms/step - loss: 0.4989 - acc: 0.8415 - val_loss: 1.6203 - val_acc: 0.5000\n",
            "Epoch 206/500\n",
            "82/82 [==============================] - 3s 32ms/step - loss: 0.4983 - acc: 0.8232 - val_loss: 1.1229 - val_acc: 0.5000\n",
            "Epoch 207/500\n",
            "82/82 [==============================] - 3s 32ms/step - loss: 0.5062 - acc: 0.8171 - val_loss: 0.7563 - val_acc: 0.7000\n",
            "Epoch 208/500\n",
            "82/82 [==============================] - 3s 32ms/step - loss: 0.4593 - acc: 0.8537 - val_loss: 1.9520 - val_acc: 0.5000\n",
            "Epoch 209/500\n",
            "82/82 [==============================] - 3s 32ms/step - loss: 0.4015 - acc: 0.8963 - val_loss: 1.1700 - val_acc: 0.7000\n",
            "Epoch 210/500\n",
            "82/82 [==============================] - 3s 32ms/step - loss: 0.3566 - acc: 0.8659 - val_loss: 1.0654 - val_acc: 0.6000\n",
            "Epoch 211/500\n",
            "82/82 [==============================] - 3s 32ms/step - loss: 0.4699 - acc: 0.8537 - val_loss: 2.0019 - val_acc: 0.2000\n",
            "Epoch 212/500\n",
            "82/82 [==============================] - 3s 32ms/step - loss: 0.5224 - acc: 0.8171 - val_loss: 1.7797 - val_acc: 0.6000\n",
            "Epoch 213/500\n",
            "82/82 [==============================] - 3s 32ms/step - loss: 0.4191 - acc: 0.8476 - val_loss: 1.8444 - val_acc: 0.5000\n",
            "Epoch 214/500\n",
            "82/82 [==============================] - 3s 32ms/step - loss: 0.4119 - acc: 0.8476 - val_loss: 1.4995 - val_acc: 0.5000\n",
            "Epoch 215/500\n",
            "82/82 [==============================] - 3s 32ms/step - loss: 0.4193 - acc: 0.8659 - val_loss: 1.2446 - val_acc: 0.5000\n",
            "Epoch 216/500\n",
            "82/82 [==============================] - 3s 32ms/step - loss: 0.5189 - acc: 0.8293 - val_loss: 2.4321 - val_acc: 0.4000\n",
            "Epoch 217/500\n",
            "82/82 [==============================] - 3s 32ms/step - loss: 0.3787 - acc: 0.8598 - val_loss: 1.3576 - val_acc: 0.6000\n",
            "Epoch 218/500\n",
            "82/82 [==============================] - 3s 32ms/step - loss: 0.4286 - acc: 0.8598 - val_loss: 2.3891 - val_acc: 0.6000\n",
            "Epoch 219/500\n",
            "82/82 [==============================] - 3s 32ms/step - loss: 0.4356 - acc: 0.8476 - val_loss: 1.0232 - val_acc: 0.6000\n",
            "Epoch 220/500\n",
            "82/82 [==============================] - 3s 32ms/step - loss: 0.4108 - acc: 0.8476 - val_loss: 5.3053 - val_acc: 0.1000\n",
            "Epoch 221/500\n",
            "82/82 [==============================] - 3s 32ms/step - loss: 0.4270 - acc: 0.8354 - val_loss: 1.1707 - val_acc: 0.5000\n",
            "Epoch 222/500\n",
            "82/82 [==============================] - 3s 32ms/step - loss: 0.4121 - acc: 0.8963 - val_loss: 1.0747 - val_acc: 0.5000\n",
            "Epoch 223/500\n",
            "82/82 [==============================] - 3s 32ms/step - loss: 0.4246 - acc: 0.8476 - val_loss: 3.0829 - val_acc: 0.1000\n",
            "Epoch 224/500\n",
            "82/82 [==============================] - 3s 31ms/step - loss: 0.4006 - acc: 0.8902 - val_loss: 2.1925 - val_acc: 0.3000\n",
            "Epoch 225/500\n",
            "82/82 [==============================] - 3s 32ms/step - loss: 0.4576 - acc: 0.8476 - val_loss: 1.0520 - val_acc: 0.6000\n",
            "Epoch 226/500\n",
            "82/82 [==============================] - 3s 32ms/step - loss: 0.3969 - acc: 0.8720 - val_loss: 1.2913 - val_acc: 0.7000\n",
            "Epoch 227/500\n",
            "82/82 [==============================] - 3s 32ms/step - loss: 0.4288 - acc: 0.8659 - val_loss: 1.7341 - val_acc: 0.5000\n",
            "Epoch 228/500\n",
            "82/82 [==============================] - 3s 32ms/step - loss: 0.4130 - acc: 0.8537 - val_loss: 2.1385 - val_acc: 0.3000\n",
            "Epoch 229/500\n",
            "82/82 [==============================] - 3s 31ms/step - loss: 0.4298 - acc: 0.8720 - val_loss: 3.0578 - val_acc: 0.1000\n",
            "Epoch 230/500\n",
            "82/82 [==============================] - 3s 32ms/step - loss: 0.4486 - acc: 0.8841 - val_loss: 2.0096 - val_acc: 0.6000\n",
            "Epoch 231/500\n",
            "82/82 [==============================] - 3s 32ms/step - loss: 0.3664 - acc: 0.8841 - val_loss: 3.5918 - val_acc: 0.6000\n",
            "Epoch 232/500\n",
            "82/82 [==============================] - 3s 32ms/step - loss: 0.4006 - acc: 0.8963 - val_loss: 4.9198 - val_acc: 0.6000\n",
            "Epoch 233/500\n",
            "82/82 [==============================] - 3s 32ms/step - loss: 0.3726 - acc: 0.8902 - val_loss: 0.9023 - val_acc: 0.7000\n",
            "Epoch 234/500\n",
            "82/82 [==============================] - 3s 32ms/step - loss: 0.3836 - acc: 0.8780 - val_loss: 2.2890 - val_acc: 0.5000\n",
            "Epoch 235/500\n",
            "82/82 [==============================] - 3s 32ms/step - loss: 0.3895 - acc: 0.8902 - val_loss: 1.4928 - val_acc: 0.5000\n",
            "Epoch 236/500\n",
            "82/82 [==============================] - 3s 32ms/step - loss: 0.3731 - acc: 0.8780 - val_loss: 0.8428 - val_acc: 0.5000\n",
            "Epoch 237/500\n",
            "82/82 [==============================] - 3s 32ms/step - loss: 0.3595 - acc: 0.8902 - val_loss: 0.6590 - val_acc: 0.7000\n",
            "Epoch 238/500\n",
            "82/82 [==============================] - 3s 31ms/step - loss: 0.3413 - acc: 0.8963 - val_loss: 1.8588 - val_acc: 0.6000\n",
            "Epoch 239/500\n",
            "82/82 [==============================] - 3s 32ms/step - loss: 0.4037 - acc: 0.8598 - val_loss: 2.3106 - val_acc: 0.4000\n",
            "Epoch 240/500\n",
            "82/82 [==============================] - 3s 32ms/step - loss: 0.3613 - acc: 0.8780 - val_loss: 1.4732 - val_acc: 0.5000\n",
            "Epoch 241/500\n",
            "82/82 [==============================] - 3s 32ms/step - loss: 0.3856 - acc: 0.9024 - val_loss: 2.3047 - val_acc: 0.5000\n",
            "Epoch 242/500\n",
            "82/82 [==============================] - 3s 32ms/step - loss: 0.3130 - acc: 0.9207 - val_loss: 1.5906 - val_acc: 0.6000\n",
            "Epoch 243/500\n",
            "82/82 [==============================] - 3s 32ms/step - loss: 0.3436 - acc: 0.9085 - val_loss: 1.5492 - val_acc: 0.5000\n",
            "Epoch 244/500\n",
            "82/82 [==============================] - 3s 32ms/step - loss: 0.3202 - acc: 0.9207 - val_loss: 2.4467 - val_acc: 0.5000\n",
            "Epoch 245/500\n",
            "82/82 [==============================] - 3s 32ms/step - loss: 0.3305 - acc: 0.9085 - val_loss: 1.2166 - val_acc: 0.6000\n",
            "Epoch 246/500\n",
            "82/82 [==============================] - 3s 32ms/step - loss: 0.3436 - acc: 0.8841 - val_loss: 1.1428 - val_acc: 0.6000\n",
            "Epoch 247/500\n",
            "82/82 [==============================] - 3s 32ms/step - loss: 0.3634 - acc: 0.8902 - val_loss: 1.0275 - val_acc: 0.6000\n",
            "Epoch 248/500\n",
            "82/82 [==============================] - 3s 32ms/step - loss: 0.4227 - acc: 0.8902 - val_loss: 3.0900 - val_acc: 0.1000\n",
            "Epoch 249/500\n",
            "82/82 [==============================] - 3s 32ms/step - loss: 0.3202 - acc: 0.8902 - val_loss: 1.2701 - val_acc: 0.6000\n",
            "Epoch 250/500\n",
            "82/82 [==============================] - 3s 32ms/step - loss: 0.4829 - acc: 0.8415 - val_loss: 2.6256 - val_acc: 0.2000\n",
            "Epoch 251/500\n",
            "82/82 [==============================] - 3s 32ms/step - loss: 0.2947 - acc: 0.9268 - val_loss: 2.6980 - val_acc: 0.2000\n",
            "Epoch 252/500\n",
            "82/82 [==============================] - 3s 32ms/step - loss: 0.4236 - acc: 0.8902 - val_loss: 1.2723 - val_acc: 0.6000\n",
            "Epoch 253/500\n",
            "82/82 [==============================] - 3s 32ms/step - loss: 0.4462 - acc: 0.8354 - val_loss: 2.4570 - val_acc: 0.4000\n",
            "Epoch 254/500\n",
            "82/82 [==============================] - 3s 32ms/step - loss: 0.4149 - acc: 0.8841 - val_loss: 1.8174 - val_acc: 0.5000\n",
            "Epoch 255/500\n",
            "82/82 [==============================] - 3s 32ms/step - loss: 0.3226 - acc: 0.9146 - val_loss: 2.4535 - val_acc: 0.6000\n",
            "Epoch 256/500\n",
            "82/82 [==============================] - 3s 32ms/step - loss: 0.2787 - acc: 0.9329 - val_loss: 2.1898 - val_acc: 0.5000\n",
            "Epoch 257/500\n",
            "82/82 [==============================] - 3s 32ms/step - loss: 0.4541 - acc: 0.8659 - val_loss: 1.2143 - val_acc: 0.6000\n",
            "Epoch 258/500\n",
            "82/82 [==============================] - 3s 32ms/step - loss: 0.3258 - acc: 0.8780 - val_loss: 0.7513 - val_acc: 0.7000\n",
            "Epoch 259/500\n",
            "82/82 [==============================] - 3s 31ms/step - loss: 0.3670 - acc: 0.8902 - val_loss: 3.1273 - val_acc: 0.6000\n",
            "Epoch 260/500\n",
            "82/82 [==============================] - 3s 31ms/step - loss: 0.3531 - acc: 0.8902 - val_loss: 2.0300 - val_acc: 0.5000\n",
            "Epoch 261/500\n",
            "82/82 [==============================] - 3s 32ms/step - loss: 0.3800 - acc: 0.8659 - val_loss: 1.3784 - val_acc: 0.5000\n",
            "Epoch 262/500\n",
            "82/82 [==============================] - 3s 32ms/step - loss: 0.3041 - acc: 0.9146 - val_loss: 1.1292 - val_acc: 0.7000\n",
            "Epoch 263/500\n",
            "82/82 [==============================] - 3s 32ms/step - loss: 0.3930 - acc: 0.8659 - val_loss: 1.1618 - val_acc: 0.5000\n",
            "Epoch 264/500\n",
            "82/82 [==============================] - 3s 32ms/step - loss: 0.3515 - acc: 0.8902 - val_loss: 3.2487 - val_acc: 0.6000\n",
            "Epoch 265/500\n",
            "82/82 [==============================] - 3s 32ms/step - loss: 0.3396 - acc: 0.8963 - val_loss: 2.3325 - val_acc: 0.6000\n",
            "Epoch 266/500\n",
            "82/82 [==============================] - 3s 32ms/step - loss: 0.3444 - acc: 0.8720 - val_loss: 0.8933 - val_acc: 0.6000\n",
            "Epoch 267/500\n",
            "82/82 [==============================] - 3s 32ms/step - loss: 0.3621 - acc: 0.8902 - val_loss: 2.4348 - val_acc: 0.6000\n",
            "Epoch 268/500\n",
            "82/82 [==============================] - 3s 32ms/step - loss: 0.4013 - acc: 0.8902 - val_loss: 2.0463 - val_acc: 0.6000\n",
            "Epoch 269/500\n",
            "82/82 [==============================] - 3s 32ms/step - loss: 0.3674 - acc: 0.8963 - val_loss: 2.3992 - val_acc: 0.4000\n",
            "Epoch 270/500\n",
            "82/82 [==============================] - 3s 32ms/step - loss: 0.2359 - acc: 0.9390 - val_loss: 1.4736 - val_acc: 0.7000\n",
            "Epoch 271/500\n",
            "82/82 [==============================] - 3s 32ms/step - loss: 0.2666 - acc: 0.9390 - val_loss: 1.4616 - val_acc: 0.6000\n",
            "Epoch 272/500\n",
            "82/82 [==============================] - 3s 32ms/step - loss: 0.3562 - acc: 0.9024 - val_loss: 1.0738 - val_acc: 0.6000\n",
            "Epoch 273/500\n",
            "82/82 [==============================] - 3s 32ms/step - loss: 0.4322 - acc: 0.8841 - val_loss: 3.1913 - val_acc: 0.6000\n",
            "Epoch 274/500\n",
            "82/82 [==============================] - 3s 32ms/step - loss: 0.2459 - acc: 0.9329 - val_loss: 1.7712 - val_acc: 0.7000\n",
            "Epoch 275/500\n",
            "82/82 [==============================] - 3s 32ms/step - loss: 0.3357 - acc: 0.9024 - val_loss: 1.2250 - val_acc: 0.5000\n",
            "Epoch 276/500\n",
            "82/82 [==============================] - 3s 31ms/step - loss: 0.3104 - acc: 0.9085 - val_loss: 1.7207 - val_acc: 0.5000\n",
            "Epoch 277/500\n",
            "82/82 [==============================] - 3s 31ms/step - loss: 0.3785 - acc: 0.8841 - val_loss: 1.0643 - val_acc: 0.7000\n",
            "Epoch 278/500\n",
            "82/82 [==============================] - 3s 32ms/step - loss: 0.2368 - acc: 0.9024 - val_loss: 1.7460 - val_acc: 0.6000\n",
            "Epoch 279/500\n",
            "82/82 [==============================] - 3s 32ms/step - loss: 0.3033 - acc: 0.9085 - val_loss: 1.4371 - val_acc: 0.5000\n",
            "Epoch 280/500\n",
            "82/82 [==============================] - 3s 32ms/step - loss: 0.2972 - acc: 0.9146 - val_loss: 1.2771 - val_acc: 0.6000\n",
            "Epoch 281/500\n",
            "82/82 [==============================] - 3s 32ms/step - loss: 0.2024 - acc: 0.9451 - val_loss: 0.9661 - val_acc: 0.7000\n",
            "Epoch 282/500\n",
            "82/82 [==============================] - 3s 32ms/step - loss: 0.2530 - acc: 0.9329 - val_loss: 1.1788 - val_acc: 0.5000\n",
            "Epoch 283/500\n",
            "82/82 [==============================] - 3s 32ms/step - loss: 0.2785 - acc: 0.9085 - val_loss: 0.9352 - val_acc: 0.8000\n",
            "Epoch 284/500\n",
            "82/82 [==============================] - 3s 32ms/step - loss: 0.3259 - acc: 0.9024 - val_loss: 3.5130 - val_acc: 0.6000\n",
            "Epoch 285/500\n",
            "82/82 [==============================] - 3s 32ms/step - loss: 0.3366 - acc: 0.9024 - val_loss: 1.4378 - val_acc: 0.5000\n",
            "Epoch 286/500\n",
            "82/82 [==============================] - 3s 32ms/step - loss: 0.3270 - acc: 0.8841 - val_loss: 1.6463 - val_acc: 0.6000\n",
            "Epoch 287/500\n",
            "82/82 [==============================] - 3s 32ms/step - loss: 0.4203 - acc: 0.8659 - val_loss: 1.6508 - val_acc: 0.5000\n",
            "Epoch 288/500\n",
            "82/82 [==============================] - 3s 32ms/step - loss: 0.3322 - acc: 0.9146 - val_loss: 1.5889 - val_acc: 0.5000\n"
          ],
          "name": "stdout"
        },
        {
          "output_type": "execute_result",
          "data": {
            "text/plain": [
              "<tensorflow.python.keras.callbacks.History at 0x7fb520368d50>"
            ]
          },
          "metadata": {
            "tags": []
          },
          "execution_count": 12
        }
      ]
    },
    {
      "cell_type": "code",
      "metadata": {
        "colab": {
          "base_uri": "https://localhost:8080/",
          "height": 241
        },
        "id": "ZJacsqvTy3LI",
        "outputId": "158fb6ec-3b5e-414d-95bb-19054fa7be25"
      },
      "source": [
        "fig, ax = plt.subplots(1, 2, figsize=(20, 3))\n",
        "ax = ax.ravel()\n",
        "\n",
        "for i, metric in enumerate([\"acc\", \"loss\"]):\n",
        "    ax[i].plot(cnn.history.history[metric])\n",
        "    ax[i].plot(cnn.history.history[\"val_\" + metric])\n",
        "    ax[i].set_title(\"Model {}\".format(metric))\n",
        "    ax[i].set_xlabel(\"epochs\")\n",
        "    ax[i].set_ylabel(metric)\n",
        "    ax[i].legend([\"train\", \"val\"])"
      ],
      "execution_count": null,
      "outputs": [
        {
          "output_type": "display_data",
          "data": {
            "image/png": "[encoded data removed]",
            "text/plain": [
              "<Figure size 1440x216 with 2 Axes>"
            ]
          },
          "metadata": {
            "tags": [],
            "needs_background": "light"
          }
        }
      ]
    },
    {
      "cell_type": "code",
      "metadata": {
        "id": "gvdgb_FbN45_"
      },
      "source": [
        "cnn.load_weights(\"final_dmn_model.h5\")"
      ],
      "execution_count": null,
      "outputs": []
    },
    {
      "cell_type": "code",
      "metadata": {
        "colab": {
          "base_uri": "https://localhost:8080/"
        },
        "id": "ubhSYHW3ywh5",
        "outputId": "aaa567b4-8565-428e-8992-27045297792c"
      },
      "source": [
        "# Compile model\n",
        "cnn.compile(\n",
        "    loss=\"sparse_categorical_crossentropy\",\n",
        "    optimizer=keras.optimizers.Adam(learning_rate=lr_schedule),\n",
        "    metrics=[\"acc\"],\n",
        ")\n",
        "print(\"Created model and loaded weights from file\")"
      ],
      "execution_count": null,
      "outputs": [
        {
          "output_type": "stream",
          "text": [
            "Created model and loaded weights from file\n"
          ],
          "name": "stdout"
        }
      ]
    },
    {
      "cell_type": "code",
      "metadata": {
        "colab": {
          "base_uri": "https://localhost:8080/"
        },
        "id": "tkAHdW-kzBfr",
        "outputId": "63e6e61f-1ecf-40b0-e643-284f74cec732"
      },
      "source": [
        "training_accuracy = cnn.evaluate(train_dataset, verbose = 0)\n",
        "validation_accuracy = cnn.evaluate(validation_dataset, verbose = 0)\n",
        "print(\"training\", \"%s: %.2f%%\" % (cnn.metrics_names[1], training_accuracy[1]*100))\n",
        "print(\"validation\", \"%s: %.2f%%\" % (cnn.metrics_names[1], validation_accuracy[1]*100))"
      ],
      "execution_count": null,
      "outputs": [
        {
          "output_type": "stream",
          "text": [
            "training acc: 95.12%\n",
            "validation acc: 70.00%\n"
          ],
          "name": "stdout"
        }
      ]
    },
    {
      "cell_type": "code",
      "metadata": {
        "id": "M_xlxGTfW7Gk"
      },
      "source": [
        "\"\"\" Join trainingset and validation set \"\"\"\n",
        "\n",
        "x_sample = np.concatenate((worsen_maps, nochange_maps, improve_maps), axis=0)\n",
        "y_sample = np.concatenate((worsen_labels, nochange_labels, improve_labels), axis=0)\n",
        "\n",
        "def sample_preprocessing(volume, label):\n",
        "    \"\"\"Add one dimension to each RSFCMaps in the test set.\"\"\"\n",
        "    volume = tf.expand_dims(volume, axis=3)\n",
        "    return volume, label\n",
        "\n",
        "# Define data loaders\n",
        "sample_loader = tf.data.Dataset.from_tensor_slices((x_sample, y_sample))\n",
        "\n",
        "samp = (\n",
        "    sample_loader\n",
        "    .map(validation_preprocessing)\n",
        "    .batch(1)\n",
        ")\n"
      ],
      "execution_count": null,
      "outputs": []
    },
    {
      "cell_type": "code",
      "metadata": {
        "colab": {
          "base_uri": "https://localhost:8080/"
        },
        "id": "NThH8NcEb0K4",
        "outputId": "f643e0bd-bf34-4310-847a-c0a075b83ea6"
      },
      "source": [
        "\"\"\" Create Confusion Matrix \"\"\"\n",
        "\n",
        "from sklearn import metrics\n",
        "\n",
        "y_pred = cnn.predict_classes(samp)\n",
        "\n",
        "print(metrics.confusion_matrix(y_sample, y_pred))"
      ],
      "execution_count": null,
      "outputs": [
        {
          "output_type": "stream",
          "text": [
            "/usr/local/lib/python3.7/dist-packages/tensorflow/python/keras/engine/sequential.py:455: UserWarning: `model.predict_classes()` is deprecated and will be removed after 2021-01-01. Please use instead:* `np.argmax(model.predict(x), axis=-1)`,   if your model does multi-class classification   (e.g. if it uses a `softmax` last-layer activation).* `(model.predict(x) > 0.5).astype(\"int32\")`,   if your model does binary classification   (e.g. if it uses a `sigmoid` last-layer activation).\n",
            "  warnings.warn('`model.predict_classes()` is deprecated and '\n"
          ],
          "name": "stderr"
        },
        {
          "output_type": "stream",
          "text": [
            "DMN Confusion Matrix /n\n",
            "[[10  0  1]\n",
            " [ 0  4  2]\n",
            " [ 0  1 33]]\n"
          ],
          "name": "stdout"
        }
      ]
    },
    {
      "cell_type": "markdown",
      "metadata": {
        "id": "fqzNrIAu-FxL"
      },
      "source": [
        "Balanced Accuracy = (10/11 + 4/6 + 33/34) /3 = 85 %"
      ]
    }
  ]
}